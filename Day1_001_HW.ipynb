import numpy as np
a = np.arange(0,20,1)
b = a[0:20:2]
c = a[3:20:3]
